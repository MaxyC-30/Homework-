{
 "cells": [
  {
   "cell_type": "code",
   "execution_count": 33,
   "metadata": {},
   "outputs": [
    {
     "name": "stdout",
     "output_type": "stream",
     "text": [
      "[['robot', 'cowboy', 'chicken'], 10, 5.4, False, 'aliens']\n",
      "2nd input replaced... [['lions', ['tigers', 'bears']], 10, 5.4, False, 'aliens']\n",
      "[['robot', 'cowboy', 'chicken'], 10, 5.4, False, 'aliens', 'Crocodile']\n",
      "list Length = 5\n",
      "[5.4, False, 'aliens']\n",
      "[['robot', 'cowboy', 'chicken'], 10, 5.4, False, 'aliens', 5.4, False, 'aliens']\n",
      "[3, 6, 9, 12, 15]\n",
      "[3, 6, 9, 12, 15, 3, 6, 9, 12, 15]\n"
     ]
    }
   ],
   "source": [
    "#Create a list of at least 5 elements of mixed data types\n",
    "list= [[\"robot\",\"cowboy\",\"chicken\"], 10, 5.4, False, \"aliens\"]\n",
    "print(list)\n",
    "\n",
    "#replace a part of it with something else\n",
    "list[0] = [\"lions\",[\"tigers\",\"bears\"]]\n",
    "print(\"2nd input replaced...\", list)\n",
    "\n",
    "#append or insert several more items to the list\n",
    "list= [[\"robot\",\"cowboy\",\"chicken\"], 10, 5.4, False, \"aliens\"]\n",
    "list.append(\"Crocodile\")\n",
    "print(list)\n",
    "#I get error message when I attempt to add more than one item to the append command.  Please help.******???????????????\n",
    "\n",
    "#find and print the length of the list\n",
    "list = [[\"robot\",\"cowboy\",\"chicken\"], 10, 5.4, False, \"aliens\"]\n",
    "print(\"list Length =\",len(list) )\n",
    "\n",
    "#slice a sub-section of the 1st list, and save it to a different 2nd list\n",
    "second_list= list[2:5]\n",
    "\n",
    "#print the 2nd list\n",
    "print(second_list)\n",
    "\n",
    "#extend your original list with the 2nd list sliced above\n",
    "list.extend(second_list)\n",
    "print(list)\n",
    "\n",
    "#Create a new list called \"simList\" containing at least 5 elements of the same data type, either string, integer, float, or Boolean.\n",
    "simlist= [6,3,15,12,9]\n",
    "\n",
    "#sort \"simList\", and print the list\n",
    "simlist.sort()\n",
    "print(simlist)\n",
    "\n",
    "#copy the \"simList\" list to another 3rd list\n",
    "third_list = simlist.copy()\n",
    "\n",
    "#add the 2nd and 3rd lists together into a 4th list\n",
    "fourth_list =(third_list + simlist)\n",
    "print(fourth_list)"
   ]
  },
  {
   "cell_type": "code",
   "execution_count": 26,
   "metadata": {},
   "outputs": [
    {
     "name": "stdout",
     "output_type": "stream",
     "text": [
      "('Naruto', 'Shadow clone', 59.5, 7, True)\n",
      "timestuple ... ('Naruto', 'Shadow clone', 59.5, 7, True, 'Naruto', 'Shadow clone', 59.5, 7, True, 'Naruto', 'Shadow clone', 59.5, 7, True)\n",
      "('Naruto', 'Shadow clone', 59.5, 7, True, 'Naruto', 'Shadow clone', 59.5, 7, True, 'Naruto', 'Shadow clone', 59.5, 7, True)\n",
      "\n",
      "tup2[11] ...  Shadow clone\n",
      "(59.5, 7, True, 'Naruto')\n",
      "59.5\n",
      "7\n",
      "True\n",
      "Naruto\n",
      "50\n",
      "('Naruto', 'Shadow clone', 59.5, 7, True, 'Naruto', 'Shadow clone', 59.5, 7, True, 'Naruto', 'Shadow clone', 59.5, 7, True, 59.5, 7, True, 'Naruto')\n"
     ]
    }
   ],
   "source": [
    "#Create a tuple of about 5 elements\n",
    "tup1 = (\"Naruto\", \"Shadow clone\",59.50, 7, True)\n",
    "print(tup1)\n",
    "\n",
    "#multiply your tuple by 3 and save it to a new 2nd tuple\n",
    "timestupple = tup1 * 3\n",
    "print(\"timestuple ...\", tup1*3)\n",
    "\n",
    "tup2 = (\"Naruto\", \"Shadow clone\",59.50, 7, True, \"Naruto\", \"Shadow clone\",59.50, 7, True, \"Naruto\", \"Shadow clone\",59.50, 7, True)\n",
    "print(tup2)\n",
    "#is this right above????????????????????????\n",
    "\n",
    "#access and print the 12th element from the 2nd tuple\n",
    "tup2 = (\"Naruto\", \"Shadow clone\",59.50, 7, True, \"Naruto\", \"Shadow clone\",59.50, 7, True, \"Naruto\", \"Shadow clone\",59.50, 7, True)\n",
    "print(\"\\ntup2[11] ... \", tup2[11])\n",
    "\n",
    "#sort the 2nd tuple and print it\n",
    "##can't figue this out.  help.\n",
    "\n",
    "#copy 4 specific elements from your 2nd tuple to a new 3nd tuple\n",
    "tup3 = tup2[2:6]\n",
    "print(tup3)\n",
    "\n",
    "#unpack the 3rd tuple into 4 variables and print these variables\n",
    "(one, three, five, seven) = tup3\n",
    "\n",
    "print(one)\n",
    "print(three)\n",
    "print(five)\n",
    "print(seven)\n",
    "\n",
    "#create a fourth tuple with single item 50 and print this tuple\n",
    "tup4 = (50)\n",
    "print(tup4)\n",
    "\n",
    "#add the 2nd and 3rd tuple together into a 5th tuple and print the tuple\n",
    "tup5 = (tup2 + tup3)\n",
    "print(tup5)"
   ]
  },
  {
   "cell_type": "code",
   "execution_count": 42,
   "metadata": {},
   "outputs": [
    {
     "name": "stdout",
     "output_type": "stream",
     "text": [
      "{'dee dee', 'Mandark', 'dexter'}\n",
      "{'dee dee', 'cherrys', 'Mandark', 'plums', 'grapes', 'dexter'}\n",
      "{'dee dee', 'cherrys', 'Mandark', 'plums', 'grapes', 'dexter', 'Mclaren 720s'}\n",
      "{'shrunken head', 'zombies', 'clowns'}\n",
      "{'dee dee', 'clowns', 'Mandark', 'cherrys', 'plums', 'dexter', 'grapes', 'shrunken head', 'Mclaren 720s', 'zombies'}\n",
      "{'zombies', 'clowns'}\n",
      "set()\n",
      "{'Mandark', 'cherrys', 'plums', 'dexter', 'grapes', 'shrunken head', 'Mclaren 720s', 'zombies'}\n"
     ]
    }
   ],
   "source": [
    "#Create a set of about 3 elements\n",
    "setone = {\"dexter\",\"dee dee\",\"Mandark\"}\n",
    "print(setone)\n",
    "\n",
    "#add a list of fruits to the above set and print the result\n",
    "setone.add(\"grapes\")\n",
    "setone.add(\"cherrys\")\n",
    "setone.add(\"plums\")\n",
    "print(setone)\n",
    "\n",
    "#add a car element to your set\n",
    "setone.add(\"Mclaren 720s\")\n",
    "print(setone)\n",
    "\n",
    "#create a 2nd set with a few odd items\n",
    "setstrange = {\"shrunken head\",\"clowns\",\"zombies\"}\n",
    "print(setstrange)\n",
    "\n",
    "#save the union of 1st set and 2nd set to a 3rd set\n",
    "settree = setone.union(setstrange)\n",
    "print(settree)\n",
    "\n",
    "#pop an element from the 2nd set, and print the remainder of the set\n",
    "setstrange.pop()\n",
    "print(setstrange)\n",
    "\n",
    "#clear the 1st set and print the result\n",
    "setone.clear()\n",
    "print(setone)\n",
    "\n",
    "#discard an element, and remove another element from the 3rd set\n",
    "settree.discard(\"clowns\")\n",
    "settree.remove(\"dee dee\")\n",
    "\n",
    "#print the remainder of the 3rd set\n",
    "print(settree)\n",
    "\n"
   ]
  },
  {
   "cell_type": "code",
   "execution_count": 24,
   "metadata": {},
   "outputs": [
    {
     "name": "stdout",
     "output_type": "stream",
     "text": [
      "{'z': 2, 'y': 4, 'x': 6, 'w': 8, 'v': 10}\n",
      "{'z': 2, 'y': 4, 'x': 6, 'w': 8, 'v': 'Maxy C'}\n",
      "{'z': 2, 'y': 4, 'x': 6, 'w': 8, 'v': 'Maxy C', 'fav_color': 'purple'}\n",
      "{'z': 2, 'y': 4, 'x': 6, 'w': 8, 'v': 'Maxy C', 'fav_color': 'purple', 'list': ['red', 'white', 'blue']}\n",
      "dict_keys(['z', 'y', 'x', 'w', 'v', 'fav_color', 'list'])\n",
      "dict_values([2, 4, 6, 8, 'Maxy C', 'purple', ['red', 'white', 'blue']])\n",
      "{'z': 2, 'y': 4, 'x': 6, 'w': 8, 'v': 'Maxy C', 'fav_color': 'purple', 'list': ['red', 'white', 'blue']}\n",
      "{'z': 2, 'y': 4, 'x': 6, 'w': 8, 'v': 'Maxy C', 'fav_color': 'purple'}\n",
      "{}\n"
     ]
    }
   ],
   "source": [
    "#Create a dictionary with at least 5 values of different data types\n",
    "d = {\"z\":2, \"y\":4, \"x\":6, \"w\":8, \"v\":10}\n",
    "print(d)\n",
    "#print out 1 value\n",
    "d.get(\"z\")\n",
    "\n",
    "#replace any one value in your dictionary with your name\n",
    "d[\"v\"] = \"Maxy C\"\n",
    "print(d)\n",
    "\n",
    "#add your favorite color to the dictionary\n",
    "d.update({\"fav_color\":\"purple\"})\n",
    "print(d)\n",
    "\n",
    "#add a list, tuple or set to your dictionary\n",
    "d.update({\"list\" :[\"red\", \"white\",\"blue\"]})\n",
    "print(d)\n",
    "\n",
    "#print a list of the dictionary keys\n",
    "dict_keys = d.keys()\n",
    "print(dict_keys)\n",
    "\n",
    "#print a list of the dictionary values\n",
    "values = d.values()\n",
    "print(values)\n",
    "\n",
    "#copy your 1st dictionary into a 2nd dictionary\n",
    "d2 = d.copy()\n",
    "print(d2)\n",
    "\n",
    "#pop an item from the 2nd dictionary, and print the dictionary\n",
    "d2.popitem()\n",
    "print(d2)\n",
    "\n",
    "#remove all the elements from the 2nd dictionary and print the result\n",
    "d2.clear()\n",
    "print(d2)\n",
    "\n"
   ]
  }
 ],
 "metadata": {
  "kernelspec": {
   "display_name": "Python 3",
   "language": "python",
   "name": "python3"
  },
  "language_info": {
   "codemirror_mode": {
    "name": "ipython",
    "version": 3
   },
   "file_extension": ".py",
   "mimetype": "text/x-python",
   "name": "python",
   "nbconvert_exporter": "python",
   "pygments_lexer": "ipython3",
   "version": "3.11.1"
  },
  "orig_nbformat": 4,
  "vscode": {
   "interpreter": {
    "hash": "98011006c0030de505896fb2cc0656c954cd3c4c7ca42121b7bb419164c48b4e"
   }
  }
 },
 "nbformat": 4,
 "nbformat_minor": 2
}
