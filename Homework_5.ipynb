{
 "cells": [
  {
   "attachments": {},
   "cell_type": "markdown",
   "metadata": {},
   "source": [
    "#What does Pandas stand for?\n",
    "* Derived from \"Panel Data\".  It stands for \"Python Data Analysis Library\".\n",
    "\n",
    "#What are the 2 collections used in Pandas?\n",
    "* Series: 1-dimension \n",
    " DataFrame: 2-dimensional\n",
    "\n",
    "#Name 4 things Pandas can do for us\n",
    "*Load, Data cleansing, Data Inspection, Data visualization \n",
    "\n",
    "#To permanently sort a DataFrame, which keyword should one use with the df.sort() method?\n",
    "* values\n",
    "\n",
    "#What is a CSV\n",
    "* Comas seperated values = CSV.  A delimited text file that uses commas to separate values \n",
    "\n",
    "#When cleaning data what values do we not like in our data?\n",
    "* Null values"
   ]
  },
  {
   "cell_type": "code",
   "execution_count": 9,
   "metadata": {},
   "outputs": [
    {
     "name": "stdout",
     "output_type": "stream",
     "text": [
      "\n",
      "newArray is:\n",
      " [[25 16]\n",
      " [11  2]\n",
      " [13  4]\n",
      " [ 7 81]\n",
      " [ 5  6]\n",
      " [11 12]]\n"
     ]
    }
   ],
   "source": [
    "#Concatenate these 3 arrays into a new array named 'newArray'...\n",
    "\n",
    "([[25, 16]])\n",
    "([[11, 2], [13, 4]])\n",
    "([[7, 81], [5, 6], [11, 12]])\n",
    "import numpy as np \n",
    "\n",
    "A1 =np.array([[25, 16]])\n",
    "A2 =np.array([[11, 2], [13, 4]])\n",
    "A3 =np.array([[7, 81], [5, 6], [11, 12]])\n",
    "\n",
    "newArray = np.concatenate ((A1, A2, A3))\n",
    "print(\"\\nnewArray is:\\n\", newArray)\n"
   ]
  },
  {
   "cell_type": "code",
   "execution_count": 11,
   "metadata": {},
   "outputs": [
    {
     "name": "stdout",
     "output_type": "stream",
     "text": [
      "\n",
      "sortedArray is:\n",
      " [[16 25]\n",
      " [ 2 11]\n",
      " [ 4 13]\n",
      " [ 7 81]\n",
      " [ 5  6]\n",
      " [11 12]]\n"
     ]
    }
   ],
   "source": [
    "#Sort 'newArray' in order into 'sortedArray'\n",
    "\n",
    "sortedArray = np.sort(newArray)\n",
    "print(\"\\nsortedArray is:\\n\", sortedArray)"
   ]
  },
  {
   "cell_type": "code",
   "execution_count": 15,
   "metadata": {},
   "outputs": [
    {
     "name": "stdout",
     "output_type": "stream",
     "text": [
      "\n",
      "reshapedArray is:\n",
      " [[[16 25  2]\n",
      "  [11  4 13]]\n",
      "\n",
      " [[ 7 81  5]\n",
      "  [ 6 11 12]]]\n"
     ]
    }
   ],
   "source": [
    "#Reshape the 'sortedArray' array, into a new array called 'reshapedArray', so it has 2 dimensions with a size of 2, 3.\n",
    "\n",
    "reshapedArray = np.reshape(sortedArray,(2, 2, 3))\n",
    "print(\"\\nreshapedArray is:\\n\", reshapedArray)"
   ]
  },
  {
   "cell_type": "code",
   "execution_count": 16,
   "metadata": {},
   "outputs": [
    {
     "name": "stdout",
     "output_type": "stream",
     "text": [
      "[16 25  2] [11  4 13] [ 7 81  5] [ 6 11 12]\n"
     ]
    }
   ],
   "source": [
    "#Unpack the array tuples from the above 'reshapedArray' into 4 well named variables. Print the 4 variables.\n",
    "\n",
    "x,o = reshapedArray \n",
    "x0, x1 = x\n",
    "o0,o1 = o\n",
    "print(x0,x1,o0,o1)"
   ]
  },
  {
   "cell_type": "code",
   "execution_count": 18,
   "metadata": {},
   "outputs": [
    {
     "name": "stdout",
     "output_type": "stream",
     "text": [
      "\n",
      "comboArray is:\n",
      " [ 0  1  2  3  4  5  6  7 10 11 12 13 14 15 16 17 20 21 22 23 24 25 26 27]\n"
     ]
    }
   ],
   "source": [
    "#Combined and sort the following arrays into one called 'comboArray' ...\n",
    "\n",
    "one = ([10, 11, 12, 13, 14, 15, 16, 17])\n",
    "two = ([20, 21, 22, 23, 24, 25, 26, 27])\n",
    "three = ([ 0, 1, 2, 3, 4, 5, 6, 7])\n",
    "\n",
    "comboArray = np.sort(np.concatenate((one, two, three)))\n",
    "print(\"\\ncomboArray is:\\n\", comboArray)"
   ]
  },
  {
   "cell_type": "code",
   "execution_count": 25,
   "metadata": {},
   "outputs": [
    {
     "name": "stdout",
     "output_type": "stream",
     "text": [
      "1\n",
      "[ 2  3  4  5  6  7 10 11 12 13 14 15 16 17 20 21 22 23 24 25 26 27]\n",
      "[ 3  4  5  6  7 10 11 12 13 14 15 16]\n",
      "[22 23 24 25 26 27]\n",
      "[ 0  1  2  3  4  5  6  7 10 11 12 13 14 15]\n",
      "[20 22 24 26]\n",
      "[27 22 15 10  3]\n"
     ]
    }
   ],
   "source": [
    "#Take 'comboArray' and perform the following slicing activities\n",
    "\n",
    "#print sec1 - the 2nd element\n",
    "\n",
    "print(comboArray[1])\n",
    "\n",
    "#print sec2 - all elements from the 3rd element to the last\n",
    "\n",
    "print(comboArray[2:])\n",
    "\n",
    "#print sec3 - all elements from the 4th to the 14th elements\n",
    "\n",
    "print(comboArray[3:15])\n",
    "\n",
    "#print sec4 - the last 6 elements\n",
    "\n",
    "print(comboArray[-6:])\n",
    "\n",
    "#print sec5 - all element from #0 up to and including #15, using the negative number method, i.e. taking a section from the end.\n",
    "\n",
    "print(comboArray[:-10]) \n",
    "\n",
    "#print sec6 - from #20 every even element to the end\n",
    "\n",
    "print(comboArray[16::2])\n",
    "\n",
    "#print sec7 - from the last element moving forward, every 5th element.\n",
    "\n",
    "print(comboArray[-1::-5])"
   ]
  },
  {
   "cell_type": "code",
   "execution_count": 31,
   "metadata": {},
   "outputs": [
    {
     "name": "stdout",
     "output_type": "stream",
     "text": [
      "[[[ 17.    70.    10.8 ]\n",
      "  [ 27.    80.3   20.71]]\n",
      "\n",
      " [[ 37.    90.02  30.8 ]\n",
      "  [ 47.   101.    41.  ]]\n",
      "\n",
      " [[ 57.4   94.    50.7 ]\n",
      "  [ 32.    85.5   36.2 ]]]\n",
      "[[[0.         0.         0.00934579]\n",
      "  [0.58823529 0.14714286 0.93551402]]\n",
      "\n",
      " [[1.17647059 0.286      1.87850467]\n",
      "  [1.76470588 0.44285714 2.8317757 ]]\n",
      "\n",
      " [[2.37647059 0.34285714 3.73831776]\n",
      "  [0.88235294 0.22142857 2.38317757]]]\n",
      "[[[0.00000e+00 0.00000e+00 1.07000e+00]\n",
      "  [1.70000e+02 7.21000e+02 1.07107e+02]]\n",
      "\n",
      " [[3.40000e+02 1.40140e+03 2.15070e+02]\n",
      "  [5.10000e+02 2.17000e+03 3.24210e+02]]\n",
      "\n",
      " [[6.86800e+02 1.68000e+03 4.28000e+02]\n",
      "  [2.55000e+02 1.08500e+03 2.72850e+02]]]\n",
      "[[[-17.   -70.   -10.6 ]\n",
      "  [ -7.   -59.7   -0.69]]\n",
      "\n",
      " [[  3.   -49.98   9.4 ]\n",
      "  [ 13.   -39.    19.6 ]]\n",
      "\n",
      " [[ 23.4  -46.    29.3 ]\n",
      "  [ -2.   -54.5   14.8 ]]]\n",
      "[ 0.  0. 30. 24. 15.]\n"
     ]
    }
   ],
   "source": [
    "#Using simple math operations, broadcast the addition (+), division (/), and multiplication (*) operations for these 2 arrays --\n",
    "\n",
    "([[[ 0.0,  0.0,  0.10], [10.0, 10.30, 10.01]],\n",
    "        [[20.0, 20.02, 20.10], [30.0, 31.0, 30.30]],\n",
    "        [[40.40, 24.0, 40.0], [15.0, 15.5, 25.5]]])\n",
    "\n",
    "([[17.0, 70.0, 10.7]])\n",
    "\n",
    "\n",
    "A1 = np.array([[[ 0.0,  0.0,  0.10], [10.0, 10.30, 10.01]],\n",
    "       [[20.0, 20.02, 20.10], [30.0, 31.0, 30.30]],\n",
    "        [[40.40, 24.0, 40.0], [15.0, 15.5, 25.5]]])\n",
    "\n",
    "B2 = np.array([[17.0, 70.0, 10.7]])\n",
    "\n",
    "#the addition (+)\n",
    "\n",
    "print(A1 + B2)\n",
    "\n",
    "#division (/)\n",
    "\n",
    "print(A1 / B2)\n",
    "\n",
    "#multiplication (*)\n",
    "\n",
    "print(A1 * B2)\n",
    "\n",
    "#Use the NumPy Arithmetic functions to do the subtraction of the above two arrays in pont #7.\n",
    "\n",
    "print(np.subtract(A1, B2))\n",
    "\n",
    "#Using modulo find all elements that are divisible by 3 from the multi-dimensional array under point #7 above.\n",
    "\n",
    "print(A1[A1 % 3 == 0])"
   ]
  },
  {
   "cell_type": "code",
   "execution_count": 33,
   "metadata": {},
   "outputs": [
    {
     "name": "stdout",
     "output_type": "stream",
     "text": [
      "  Ingredients  Quantity   unit\n",
      "0       Flour         4   cups\n",
      "1        Milk         1    cup\n",
      "2        Eggs         2  large\n",
      "3        Spam         1    can\n"
     ]
    }
   ],
   "source": [
    "#Using Series, create a DataFrame that looks like this:  #see example in dap_curriculum folder.\n",
    "\n",
    "import pandas as pd\n",
    "\n",
    "I = pd.Series(['Flour', 'Milk', 'Eggs', 'Spam'], name= \"Ingredients\")\n",
    "Q = pd.Series([4, 1, 2, 1], name= \"Quantity\")\n",
    "U = pd.Series(['cups', 'cup', 'large', 'can'], name= \"unit\")\n",
    "\n",
    "#Name: Dinner, dtype: object\n",
    "\n",
    "df = pd.concat([I, Q, U], axis=1)\n",
    "df.name = \"Dinner\"\n",
    "print(df)\n"
   ]
  },
  {
   "cell_type": "code",
   "execution_count": 35,
   "metadata": {},
   "outputs": [
    {
     "name": "stdout",
     "output_type": "stream",
     "text": [
      "\n",
      "Dataframe names: studentData:\n",
      "       Name  Height Qualification  address  Age        Pets           sport\n",
      "0      Jai     5.1           Msc    Delhi   21         Dog           Darts\n",
      "1  janusha     6.2            MA     Doha   23       Bunny      Basketball\n",
      "2   Gaurav     5.1           Msc  Chennai   24  Chinchilla  PaddleBoarding\n",
      "3     Anuj     5.2           Msc   Dakhar   21      Parrot         Cricket\n"
     ]
    }
   ],
   "source": [
    "#Take this data and create a DataFrame named studentData #see example in dap_curriculum folder #11\n",
    "\n",
    "studentData = {'Name': ['Jai', 'janusha', 'Gaurav', 'Anuj'],\n",
    "        'Height': [5.1, 6.2, 5.1, 5.2],\n",
    "        'Qualification': ['Msc', 'MA', 'Msc', 'Msc'],\n",
    "        'address': ['Delhi', 'Doha', 'Chennai', 'Dakhar'],\n",
    "        'Age': [21, 23, 24, 21],\n",
    "        'Pets': ['Dog', 'Bunny', 'Chinchilla', 'Parrot'],\n",
    "        'sport': ['Darts', 'Basketball', 'PaddleBoarding', 'Cricket']\n",
    "    }\n",
    "\n",
    "studentData = pd.DataFrame(studentData)\n",
    "studentData.name = \"studentData\"\n",
    "print(\"\\nDataframe names: studentData:\\n\", studentData)"
   ]
  },
  {
   "cell_type": "code",
   "execution_count": 36,
   "metadata": {},
   "outputs": [
    {
     "name": "stdout",
     "output_type": "stream",
     "text": [
      "\n",
      "Insert dedsert column:\n",
      "       Name  Height Qualification  address  Age        Pets           sport  \\\n",
      "0      Jai     5.1           Msc    Delhi   21         Dog           Darts   \n",
      "1  janusha     6.2            MA     Doha   23       Bunny      Basketball   \n",
      "2   Gaurav     5.1           Msc  Chennai   24  Chinchilla  PaddleBoarding   \n",
      "3     Anuj     5.2           Msc   Dakhar   21      Parrot         Cricket   \n",
      "\n",
      "        Deserts  \n",
      "0     ice cream  \n",
      "1  cashew Fudge  \n",
      "2       waffles  \n",
      "3  Carrot Halwa  \n"
     ]
    }
   ],
   "source": [
    "#Add a new column to the DataFrame with deserts:[\"ice cream\", \"Cashew Fudge\",\"waffels\", \"Carrot Halwa\"]\n",
    "\n",
    "studentData.insert(7, \"Deserts\", [\"ice cream\", \"cashew Fudge\", \"waffles\", \"Carrot Halwa\"])\n",
    "print(\"\\nInsert dedsert column:\\n\", studentData)"
   ]
  },
  {
   "cell_type": "code",
   "execution_count": 40,
   "metadata": {},
   "outputs": [
    {
     "name": "stdout",
     "output_type": "stream",
     "text": [
      "      Name  Height Qualification  address  Age        Pets           sport  \\\n",
      "3     Anuj     5.2           Msc   Dakhar   21      Parrot         Cricket   \n",
      "2   Gaurav     5.1           Msc  Chennai   24  Chinchilla  PaddleBoarding   \n",
      "0      Jai     5.1           Msc    Delhi   21         Dog           Darts   \n",
      "1  janusha     6.2            MA     Doha   23       Bunny      Basketball   \n",
      "\n",
      "        Deserts  \n",
      "3  Carrot Halwa  \n",
      "2       waffles  \n",
      "0     ice cream  \n",
      "1  cashew Fudge  \n"
     ]
    }
   ],
   "source": [
    "#Sort the 'studentData' DataFrame in Ascending order -- Sorting by column 'Name' and then \"address\"\n",
    "\n",
    "studentData.sort_values(by = [\"Name\", \"address\"], inplace=True)\n",
    "print(studentData)"
   ]
  },
  {
   "cell_type": "code",
   "execution_count": 41,
   "metadata": {},
   "outputs": [],
   "source": [
    "#Save this DataFrame here below to disc as a .CSV file with the name cows_and_goats.csv:\n",
    "\n",
    "df = pd.DataFrame({'Cows': [12, 20], 'Goats': [22, 19]}, index=['Year 1', 'Year 2'])\n",
    "studentData.to_csv(\"cows_and_goats.csv\")"
   ]
  },
  {
   "cell_type": "code",
   "execution_count": null,
   "metadata": {},
   "outputs": [],
   "source": [
    "#(A) Using Pandas, make your own .CSV file with data on vegetables and save it. (B) Using Pandas, make a change to your CSV file, \n",
    "#and save a copy with a different name.\n",
    "\n",
    "#wait.... what????  "
   ]
  }
 ],
 "metadata": {
  "kernelspec": {
   "display_name": "Python 3",
   "language": "python",
   "name": "python3"
  },
  "language_info": {
   "codemirror_mode": {
    "name": "ipython",
    "version": 3
   },
   "file_extension": ".py",
   "mimetype": "text/x-python",
   "name": "python",
   "nbconvert_exporter": "python",
   "pygments_lexer": "ipython3",
   "version": "3.11.1"
  },
  "orig_nbformat": 4,
  "vscode": {
   "interpreter": {
    "hash": "98011006c0030de505896fb2cc0656c954cd3c4c7ca42121b7bb419164c48b4e"
   }
  }
 },
 "nbformat": 4,
 "nbformat_minor": 2
}
