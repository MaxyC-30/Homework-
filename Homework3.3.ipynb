{
 "cells": [
  {
   "cell_type": "code",
   "execution_count": 6,
   "metadata": {},
   "outputs": [
    {
     "name": "stdout",
     "output_type": "stream",
     "text": [
      "Renting a car is more expensive\n"
     ]
    }
   ],
   "source": [
    "#Create an if statement: ....\n",
    "age = 20\n",
    "\n",
    "if age >= 25:\n",
    "    print(\"Renting a car is more affordable\")\n",
    "if age <= 25: \n",
    "         print(\"Renting a car is more expensive\")"
   ]
  },
  {
   "cell_type": "code",
   "execution_count": 7,
   "metadata": {},
   "outputs": [
    {
     "name": "stdout",
     "output_type": "stream",
     "text": [
      "Renting a car is more expensive\n"
     ]
    }
   ],
   "source": [
    "#Create and chain an if-else statement: .....\n",
    "age = 20 \n",
    "if age >= 25:\n",
    "    print(\"Renting a car is more affordable\")\n",
    "if age <= 25 and age >= 18: \n",
    "    print(\"Renting a car is more expensive\")\n",
    "if age < 18:\n",
    "    print('you cannot legally own a car')"
   ]
  },
  {
   "cell_type": "code",
   "execution_count": 8,
   "metadata": {},
   "outputs": [
    {
     "name": "stdout",
     "output_type": "stream",
     "text": [
      "43\n",
      "e\n",
      "u\n",
      "i\n",
      "o\n",
      "o\n",
      "u\n",
      "o\n",
      "e\n",
      "e\n",
      "a\n",
      "o\n"
     ]
    }
   ],
   "source": [
    "#Loop over the string (1) count all the characters in the string. (2) print out all vowels -- \"The quick brown fox jumps over the lazy dog\"\n",
    "count = 0\n",
    "letters = (\"The quick brown fox jumps over the lazy dog\")\n",
    "vowels = 'aeiou'\n",
    "for x in (letters):\n",
    "    count += 1   \n",
    "print(count) \n",
    "\n",
    "for x in letters:\n",
    "    if x in vowels:\n",
    "        print(x)"
   ]
  },
  {
   "cell_type": "code",
   "execution_count": 9,
   "metadata": {},
   "outputs": [
    {
     "name": "stdout",
     "output_type": "stream",
     "text": [
      "trousers fuchsia\n",
      "trousers gunmetal blue\n",
      "trousers maple\n",
      "trousers aqua\n",
      "trousers cerise\n",
      "trousers auburn\n",
      "trousers Dark Sapphire\n",
      "trousers burnt sienna\n",
      "blouse fuchsia\n",
      "blouse gunmetal blue\n",
      "blouse maple\n",
      "blouse aqua\n",
      "blouse cerise\n",
      "blouse auburn\n",
      "blouse Dark Sapphire\n",
      "blouse burnt sienna\n",
      "bandana fuchsia\n",
      "bandana gunmetal blue\n",
      "bandana maple\n",
      "bandana aqua\n",
      "bandana cerise\n",
      "bandana auburn\n",
      "bandana Dark Sapphire\n",
      "bandana burnt sienna\n",
      "cumber band fuchsia\n",
      "cumber band gunmetal blue\n",
      "cumber band maple\n",
      "cumber band aqua\n",
      "cumber band cerise\n",
      "cumber band auburn\n",
      "cumber band Dark Sapphire\n",
      "cumber band burnt sienna\n",
      "blazer fuchsia\n",
      "blazer gunmetal blue\n",
      "blazer maple\n",
      "blazer aqua\n",
      "blazer cerise\n",
      "blazer auburn\n",
      "blazer Dark Sapphire\n",
      "blazer burnt sienna\n",
      "vest fuchsia\n",
      "vest gunmetal blue\n",
      "vest maple\n",
      "vest aqua\n",
      "vest cerise\n",
      "vest auburn\n",
      "vest Dark Sapphire\n",
      "vest burnt sienna\n",
      "french beret fuchsia\n",
      "french beret gunmetal blue\n",
      "french beret maple\n",
      "french beret aqua\n",
      "french beret cerise\n",
      "french beret auburn\n",
      "french beret Dark Sapphire\n",
      "french beret burnt sienna\n",
      "scarf fuchsia\n",
      "scarf gunmetal blue\n",
      "scarf maple\n",
      "scarf aqua\n",
      "scarf cerise\n",
      "scarf auburn\n",
      "scarf Dark Sapphire\n",
      "scarf burnt sienna\n",
      "stole fuchsia\n",
      "stole gunmetal blue\n",
      "stole maple\n",
      "stole aqua\n",
      "stole cerise\n",
      "stole auburn\n",
      "stole Dark Sapphire\n",
      "stole burnt sienna\n"
     ]
    }
   ],
   "source": [
    "#Write a nested loop that prints out every piece of clothing from the ....\n",
    "couture = [\"trousers\", \"blouse\", \"bandana\", \"cumber band\", \"blazer\", \"vest\", \"french beret\", \"scarf\", \"stole\"]\n",
    "panettone = {\"cerise\", \"fuchsia\", \"aqua\", \"maple\", \"auburn\", \"burnt sienna\", \"gunmetal blue\", \"Dark Sapphire\"}\n",
    "for clothes in couture: \n",
    "    for style in panettone: \n",
    "        print(clothes, style)\n"
   ]
  },
  {
   "cell_type": "code",
   "execution_count": 10,
   "metadata": {},
   "outputs": [
    {
     "name": "stdout",
     "output_type": "stream",
     "text": [
      "4950\n"
     ]
    }
   ],
   "source": [
    "#Use range as a loop to calculate the sum of all the numbers from 1 to 100\n",
    "sum = 0\n",
    "for numbers in range (1, 100):\n",
    "    sum = sum + numbers\n",
    "print(sum)"
   ]
  },
  {
   "cell_type": "code",
   "execution_count": 11,
   "metadata": {},
   "outputs": [
    {
     "name": "stdout",
     "output_type": "stream",
     "text": [
      "banana\n"
     ]
    }
   ],
   "source": [
    "#Print the second item in this fruits list. [\"apple\", \"banana\", \"cherry\"\n",
    "fruits =   [\"apple\", \"banana\", \"cherry\"]\n",
    "print(fruits[1])"
   ]
  },
  {
   "cell_type": "code",
   "execution_count": 12,
   "metadata": {},
   "outputs": [
    {
     "name": "stdout",
     "output_type": "stream",
     "text": [
      "['kiwi', 'banana', 'cherry']\n"
     ]
    }
   ],
   "source": [
    "#Change the value from \"apple\" to \"kiwi\", in the fruits list. [\"apple\", \"banana\", \"cherry\"]\n",
    "fruits = [\"apple\", \"banana\", \"cherry\"]\n",
    "fruits[0] = \"kiwi\"\n",
    "print(fruits)"
   ]
  },
  {
   "cell_type": "code",
   "execution_count": 15,
   "metadata": {},
   "outputs": [
    {
     "name": "stdout",
     "output_type": "stream",
     "text": [
      "['apple', 'banana', 'cherry', 'orange']\n"
     ]
    }
   ],
   "source": [
    "#Use the append method to add \"orange\" to the fruits list. [\"apple\", \"banana\", \"cherry\"]\n",
    "fruits = [\"apple\", \"banana\", \"cherry\"]\n",
    "fruits.append('orange')\n",
    "print(fruits)"
   ]
  },
  {
   "cell_type": "code",
   "execution_count": 16,
   "metadata": {},
   "outputs": [
    {
     "name": "stdout",
     "output_type": "stream",
     "text": [
      "['apple', 'lemon', 'banana', 'cherry']\n"
     ]
    }
   ],
   "source": [
    "#Use the insert method to add \"lemon\" as the second item in the fruits list. [\"apple\", \"banana\", \"cherry\"]\n",
    "fruits = [\"apple\", \"banana\", \"cherry\"]\n",
    "fruits.insert(1,'lemon') \n",
    "print(fruits)"
   ]
  },
  {
   "cell_type": "code",
   "execution_count": 17,
   "metadata": {},
   "outputs": [
    {
     "name": "stdout",
     "output_type": "stream",
     "text": [
      "['apple', 'cherry']\n"
     ]
    }
   ],
   "source": [
    "#Use the remove method to remove \"banana\" from the fruits list. [\"apple\", \"banana\", \"cherry\"]\n",
    "fruits = [\"apple\", \"banana\", \"cherry\"]\n",
    "fruits.remove('banana')\n",
    "print(fruits)"
   ]
  },
  {
   "cell_type": "code",
   "execution_count": 19,
   "metadata": {},
   "outputs": [
    {
     "name": "stdout",
     "output_type": "stream",
     "text": [
      "kiwi\n",
      "melon\n"
     ]
    }
   ],
   "source": [
    "#Use negative indexing to print the 3rd and 2nd to last items in the list. [\"apple\", \"banana\", \"cherry\", \"orange\", \"kiwi\", \"melon\", \"mango\"]\n",
    "List = [\"apple\", \"banana\", \"cherry\", \"orange\", \"kiwi\", \"melon\", \"mango\"]\n",
    "print(List[-3])\n",
    "print(List[-2])"
   ]
  },
  {
   "cell_type": "code",
   "execution_count": 20,
   "metadata": {},
   "outputs": [
    {
     "name": "stdout",
     "output_type": "stream",
     "text": [
      "['cherry', 'orange', 'kiwi']\n"
     ]
    }
   ],
   "source": [
    "#Use a range of indexes to print the third, fourth, and fifth item in the list. [\"apple\", \"banana\", \"cherry\", \"orange\", \"kiwi\", \"melon\", \"mango\"]\n",
    "fruits =  [\"apple\", \"banana\", \"cherry\", \"orange\", \"kiwi\", \"melon\", \"mango\"]\n",
    "print(fruits[2:5])"
   ]
  },
  {
   "cell_type": "code",
   "execution_count": 21,
   "metadata": {},
   "outputs": [
    {
     "name": "stdout",
     "output_type": "stream",
     "text": [
      "7\n"
     ]
    }
   ],
   "source": [
    "#Use the correct syntax to print the number of items in the list. [\"apple\", \"banana\", \"cherry\", \"orange\", \"kiwi\", \"melon\", \"mango\"]\n",
    "fruits =  [\"apple\", \"banana\", \"cherry\", \"orange\", \"kiwi\", \"melon\", \"mango\"]\n",
    "item_number = len(fruits)\n",
    "print(item_number)"
   ]
  },
  {
   "cell_type": "code",
   "execution_count": 22,
   "metadata": {},
   "outputs": [
    {
     "name": "stdout",
     "output_type": "stream",
     "text": [
      "['orange', 'melon', 'mango', 'kiwi', 'cherry', 'banana', 'apple']\n"
     ]
    }
   ],
   "source": [
    "#Use the correct syntax to sort this list in reverse order [\"apple\", \"banana\", \"cherry\", \"orange\", \"kiwi\", \"melon\", \"mango\"]\n",
    "fruits =  [\"apple\", \"banana\", \"cherry\", \"orange\", \"kiwi\", \"melon\", \"mango\"]\n",
    "fruits.sort(reverse=True)\n",
    "print(fruits)"
   ]
  }
 ],
 "metadata": {
  "kernelspec": {
   "display_name": "Python 3",
   "language": "python",
   "name": "python3"
  },
  "language_info": {
   "codemirror_mode": {
    "name": "ipython",
    "version": 3
   },
   "file_extension": ".py",
   "mimetype": "text/x-python",
   "name": "python",
   "nbconvert_exporter": "python",
   "pygments_lexer": "ipython3",
   "version": "3.11.1"
  },
  "orig_nbformat": 4,
  "vscode": {
   "interpreter": {
    "hash": "98011006c0030de505896fb2cc0656c954cd3c4c7ca42121b7bb419164c48b4e"
   }
  }
 },
 "nbformat": 4,
 "nbformat_minor": 2
}
