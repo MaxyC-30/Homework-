{
 "cells": [
  {
   "attachments": {},
   "cell_type": "markdown",
   "metadata": {},
   "source": [
    "2.3 homework\n",
    "\n",
    "•\tWhat kind of language is Python considered?\n",
    "Python is a computer Syntax language! It is considered a high level language.  It is also an Interpreted language.\n",
    "\n",
    "•\tWhat’s a natural language?\n",
    "Natural Languages are mostly spoken languages that form on their own. Slang is a great example of a natural language.  \n",
    "\n",
    "• Is Python a Natural or a Formal language?\n",
    "Yes.  Formal Languages are designed by people. Programming languages fall under this category. For these languages there are formal rules about grammar, syntax, and punctuation.\n",
    "\n",
    "•\tWhat are Algorithms?\n",
    "An algorithm is a series of steps to solve a problem at hand\n",
    "\n",
    "• Why is Python considered to be a high-level language?\n",
    "High-level coding languages are more like natural languages.  Python takes less time to write.  It is shorter and easier to read as opposed to binary machine like languages.  It is more likely to be correct and error free when written.\n",
    "\n",
    "•\tWhat is the program we use to write Python in?\n",
    "We will use the VS Code IDE to do most of our coding.\n",
    "\n",
    "•\tWhat’s the file extension of a Python file?\n",
    ".py for python.  Bonus answer: for Jupyter files the file extension is .ipynb\n",
    "\n",
    "•\tWhat is the area called where we put in our commands?\n",
    "Terminal or Input?  Not sure, please help.\n",
    "\n",
    "• What is a Semantic error?\n",
    "SEMANTIC errors – code is grammatically correct but doesn't make any sense; it does not produce the expected results\n",
    "\n",
    "•\tWhat is the #1 rule of coding / debugging?\n",
    "The #1 Rule: Complexity is the enemy of efficiency!"
   ]
  },
  {
   "cell_type": "code",
   "execution_count": null,
   "metadata": {},
   "outputs": [],
   "source": [
    "print(\"Hello, world!\")"
   ]
  }
 ],
 "metadata": {
  "kernelspec": {
   "display_name": "Python 3",
   "language": "python",
   "name": "python3"
  },
  "language_info": {
   "name": "python",
   "version": "3.11.1"
  },
  "orig_nbformat": 4,
  "vscode": {
   "interpreter": {
    "hash": "98011006c0030de505896fb2cc0656c954cd3c4c7ca42121b7bb419164c48b4e"
   }
  }
 },
 "nbformat": 4,
 "nbformat_minor": 2
}
