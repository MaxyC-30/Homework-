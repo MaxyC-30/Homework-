{
 "cells": [
  {
   "attachments": {},
   "cell_type": "markdown",
   "metadata": {},
   "source": [
    "# What does one need to do to use a module?\n",
    "modules are built into python language.  To use them you must import it them into whatever you are trying to code.  \n",
    "\n",
    "# Name a Module (not the DateTime Nodule) we looked at and write a line or 2 of code as an example using this module.\n",
    "\n",
    "# What is a benefit of using Exception handling?\n",
    "To write code so it doesn't blow up on you when you're in the middle of finishing a project.  Keeping program from crashing. \n",
    "\n",
    "# NumPy arrays are like what Python data type?\n",
    "They are similar to Lists!\n",
    "\n",
    "# What is one of the main benefits of using NumPy arrays.\n",
    "Smaller in size than lists and they take up less space.  They are better at facilitating mathematical operations more efficiently.\n",
    "\n",
    "# What is one of the main requirements about the 'dtype' of NumPy arrays?\n",
    "Must be the same data type.  \n",
    "\n",
    "# Of the 10 uses of NumPy, name 2.\n",
    "1) copying/viewing arrays 2) Reshaping\n",
    "\n",
    "# Name one of the other libraries we'll use with NumPy? Pandas \n",
    "\n",
    "# What is the shape of NumPy arrays?\n",
    " Depends on number of elements/demensions to determine the shape.  \n",
    "\n",
    "# What is a Tensor?\n",
    "An array with three or more demensions.  \n",
    "\n",
    "# Name a reason why it's better using  NumPy for Data Analysis than using a Python List?\n",
    "Lists are much more bulky and slow to process.  Numpy consolidates data better and processes much quicker.\n",
    "\n",
    "# When creating an \"empty\" array, where do the elements come from?\n",
    " It'll first be random and depends on the state of the memory.  "
   ]
  },
  {
   "cell_type": "code",
   "execution_count": 2,
   "metadata": {},
   "outputs": [
    {
     "name": "stdout",
     "output_type": "stream",
     "text": [
      "Current date  and Time... 2023-02-19 15:00:47.631507\n"
     ]
    }
   ],
   "source": [
    "#Use the DateTime module to get Current Date and Time, and save it to a variable. \n",
    "import datetime as dt\n",
    "timeage = dt.datetime.now()\n",
    "print(\"Current date  and Time...\", timeage) "
   ]
  },
  {
   "cell_type": "code",
   "execution_count": 6,
   "metadata": {},
   "outputs": [
    {
     "data": {
      "text/plain": [
       "('Month ...', 'February')"
      ]
     },
     "execution_count": 6,
     "metadata": {},
     "output_type": "execute_result"
    }
   ],
   "source": [
    "#Then extract just the Full month name form that variable.\n",
    "month = dt.datetime.now()\n",
    "(\"Month ...\", timeage.strftime(\"%B\")) \n"
   ]
  },
  {
   "cell_type": "code",
   "execution_count": 19,
   "metadata": {},
   "outputs": [
    {
     "name": "stdout",
     "output_type": "stream",
     "text": [
      "Sup, Todd ! It's taco Tuesday! !\n"
     ]
    }
   ],
   "source": [
    "#Write a simple function that takes 2 parameters -- a first name and a day name.\n",
    "def nd(name,day = \"tuesday!\"):\n",
    "    print(\"Sup,\", name,\"! It's taco\", day, \"!\")\n",
    "    \n",
    "nd(\"Todd\", \"Tuesday!\")\n",
    "\n",
    "\n"
   ]
  },
  {
   "cell_type": "code",
   "execution_count": 1,
   "metadata": {},
   "outputs": [
    {
     "name": "stdout",
     "output_type": "stream",
     "text": [
      "[[[ 0  1]\n",
      "  [ 2  3]\n",
      "  [ 4  5]]\n",
      "\n",
      " [[ 6  7]\n",
      "  [ 8  9]\n",
      "  [10 11]]]\n"
     ]
    }
   ],
   "source": [
    "#Import NumPy, use one of the NumPy methods and create an array with a shape of ... (2, 3, 2). You can use the reshape method -- .reshape()\n",
    "import numpy as np\n",
    "ARay = np.arange(12).reshape(2,3,2)\n",
    "print(ARay)"
   ]
  },
  {
   "cell_type": "code",
   "execution_count": 2,
   "metadata": {},
   "outputs": [
    {
     "name": "stdout",
     "output_type": "stream",
     "text": [
      "[ 0.  4.  8. 12. 16. 20.]\n"
     ]
    }
   ],
   "source": [
    "#Use NumPy .linspace() to create an array with 6 linearly spaced values between 0 and 20\n",
    "import numpy as np\n",
    "ARay1 = np.linspace(0,20, num = 6)\n",
    "print(ARay1)"
   ]
  },
  {
   "cell_type": "code",
   "execution_count": 5,
   "metadata": {},
   "outputs": [
    {
     "name": "stdout",
     "output_type": "stream",
     "text": [
      "[ 0.  4.  8. 12. 16. 20.]\n"
     ]
    }
   ],
   "source": [
    "#Make a Deep Copy of the above array you created.\n",
    "import copy\n",
    "ARay2 = copy.deepcopy(ARay1)\n",
    "print(ARay2)"
   ]
  },
  {
   "cell_type": "code",
   "execution_count": null,
   "metadata": {},
   "outputs": [],
   "source": [
    "#What are 2 reasons we use NumPy arrays over Python Lists\n",
    "\n",
    "#1 they are way faster compared to lists.\n",
    "\n",
    "#2 they take up less memory space and won't crash VS code because of how compact arrays make data."
   ]
  }
 ],
 "metadata": {
  "kernelspec": {
   "display_name": "Python 3",
   "language": "python",
   "name": "python3"
  },
  "language_info": {
   "codemirror_mode": {
    "name": "ipython",
    "version": 3
   },
   "file_extension": ".py",
   "mimetype": "text/x-python",
   "name": "python",
   "nbconvert_exporter": "python",
   "pygments_lexer": "ipython3",
   "version": "3.11.1"
  },
  "orig_nbformat": 4,
  "vscode": {
   "interpreter": {
    "hash": "98011006c0030de505896fb2cc0656c954cd3c4c7ca42121b7bb419164c48b4e"
   }
  }
 },
 "nbformat": 4,
 "nbformat_minor": 2
}
