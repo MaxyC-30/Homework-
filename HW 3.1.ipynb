{
 "cells": [
  {
   "attachments": {},
   "cell_type": "markdown",
   "metadata": {},
   "source": [
    "\n",
    "1)What is an algorithm?\n",
    "* An algorithm is a series of steps to solve a problem at hand\n",
    "\n",
    "2)Why is Python considered to be a high-level language?\n",
    "* High-level coding languages are more like natural languages.  Python takes less time to write.  It is shorter and easier to read as opposed to binary machine like languages.  It is more likely to be correct and error free when written.\n",
    "\n",
    "3)Is Python a Natural or a Formal language?\n",
    "* Formal Language. Programming languages fall under this category. For these languages there are formal rules about grammar, syntax, and punctuation.\n",
    "\n",
    "4)Variable names may not start with certain characters - name two.\n",
    "1.A variable name cannot start with a number\n",
    "2.A variable name can only contain alpha-numeric characters and underscores (A-z, 0-9, and _ )\n",
    "\n",
    "5)WHat is a Semantic error?\n",
    "* SEMANTIC errors – code is grammatically correct but doesn't make any sense; it does not produce the expected results\n",
    "\n",
    "6)What is the #1 rule of coding / debugging?\n",
    "* The #1 Rule: Complexity is the enemy of efficiency!\n",
    "\n",
    "7)list 5 Python reserved words.\n",
    "1.lambda, 2.elif, 3.yield, 4.nonlocal, 5.finally\n",
    "\n",
    "8)add and name, a web link for any Python coding article, in your markdown cell.\n",
    "* 7 Practical GitHub Repositories That Will Teach You Python\n",
    "https://www.makeuseof.com/python-practical-github-repositories-learn/"
   ]
  },
  {
   "cell_type": "code",
   "execution_count": 15,
   "metadata": {},
   "outputs": [],
   "source": [
    "#Write a multi-line comment with your name, favorite food, and dream job on 3 different lines.\n",
    "\n",
    "#Max\n",
    "#Japanese Curry\n",
    "#President of the United States of America"
   ]
  },
  {
   "cell_type": "code",
   "execution_count": 15,
   "metadata": {},
   "outputs": [
    {
     "name": "stdout",
     "output_type": "stream",
     "text": [
      "<built-in function len>\n",
      "Element 4 =  u\n",
      "Learning Data Analytics and Python is Awesome!\n"
     ]
    },
    {
     "data": {
      "text/plain": [
       "'Learning Data Analytics and Python is great!'"
      ]
     },
     "execution_count": 15,
     "metadata": {},
     "output_type": "execute_result"
    }
   ],
   "source": [
    "#assign 5 different data types to 5 different variables. At least one datatype must be a string\n",
    "A= \"Jaguar\" \n",
    "B= 20\n",
    "C= 20.5\n",
    "D= False\n",
    "E=[\"lion\",\"tiger\",\"bear\",20,10.5]\n",
    "\n",
    "#print the length of your string\n",
    "len(A)\n",
    "print(len)\n",
    "\n",
    "#print the the index value of the 4th character in your string.\n",
    "print(\"Element 4 = \", A[3])\n",
    "\n",
    "#create a new variable called savvy, and assign it the string with this phrase \"Learning Data Analytics and Python is Awesome!\"\n",
    "savvy =\"Learning Data Analytics and Python is Awesome!\"\n",
    "print(savvy)\n",
    "\n",
    "#return a range of characters that slices the above string from the beginning of \"ing\" up to before \"and\"\n",
    "savvy[5:22]\n",
    "\n",
    "#Replace \"Awesome\" with \"great\" in the string\n",
    "savvy.replace(\"Awesome\",\"great\")\n",
    "\n",
    "\n"
   ]
  },
  {
   "cell_type": "code",
   "execution_count": 12,
   "metadata": {},
   "outputs": [
    {
     "name": "stdout",
     "output_type": "stream",
     "text": [
      "Python is in savvy\n"
     ]
    }
   ],
   "source": [
    "#Test and print the savvy string to see it contains \"Python\"\n",
    "if \"Python\" in savvy:\n",
    "    print(\"Python is in savvy\")\n",
    "else:\n",
    "    print(\"Python not in savvy\")"
   ]
  },
  {
   "cell_type": "code",
   "execution_count": 17,
   "metadata": {},
   "outputs": [],
   "source": [
    "#Create and assign 3 more variables called name, age and length using the multi-variable naming method.\n",
    "name, age, legnth = \"Max\",\"30\",\"6foot\""
   ]
  },
  {
   "cell_type": "code",
   "execution_count": 18,
   "metadata": {},
   "outputs": [],
   "source": [
    "#Format a new string called 'miniBio' using variables in curly brackets to complete this phrase... \"Hi my name is (name), I am (tall) and (so) old today.\"\n",
    "name = \"Max\" \n",
    "tall = \"6 foot\"\n",
    "so = \"thirty years\""
   ]
  },
  {
   "cell_type": "code",
   "execution_count": 19,
   "metadata": {},
   "outputs": [
    {
     "name": "stdout",
     "output_type": "stream",
     "text": [
      "Hi my name is Max, I am 6 foot and thirty years old today\n",
      "30.0\n"
     ]
    }
   ],
   "source": [
    "#Format a new string called 'miniBio' using variables in curly brackets to complete this phrase... \"Hi my name is (name), I am (tall) and (so) old today.\"\n",
    "#print minbio\n",
    "print(f\"Hi my name is {name}, I am {tall} and {so} old today\")\n",
    "\n",
    "print(float(age))"
   ]
  }
 ],
 "metadata": {
  "kernelspec": {
   "display_name": "Python 3",
   "language": "python",
   "name": "python3"
  },
  "language_info": {
   "codemirror_mode": {
    "name": "ipython",
    "version": 3
   },
   "file_extension": ".py",
   "mimetype": "text/x-python",
   "name": "python",
   "nbconvert_exporter": "python",
   "pygments_lexer": "ipython3",
   "version": "3.11.1"
  },
  "orig_nbformat": 4,
  "vscode": {
   "interpreter": {
    "hash": "98011006c0030de505896fb2cc0656c954cd3c4c7ca42121b7bb419164c48b4e"
   }
  }
 },
 "nbformat": 4,
 "nbformat_minor": 2
}
