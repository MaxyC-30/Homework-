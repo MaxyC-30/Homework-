{
 "cells": [
  {
   "attachments": {},
   "cell_type": "markdown",
   "metadata": {},
   "source": [
    "\n",
    "1)What is an algorithm?\n",
    "An algorithm is a series of steps to solve a problem at hand\n",
    "\n",
    "2)Why is Python considered to be a high-level language?\n",
    "High-level coding languages are more like natural languages.  Python takes less time to write.  It is shorter and easier to read as opposed to binary machine like languages.  It is more likely to be correct and error free when written.\n",
    "\n",
    "3)Is Python a Natural or a Formal language?\n",
    "Formal Language. Programming languages fall under this category. For these languages there are formal rules about grammar, syntax, and punctuation.\n",
    "\n",
    "4)Variable names may not start with certain characters - name two.\n",
    "1.A variable name cannot start with a number\n",
    "2.A variable name can only contain alpha-numeric characters and underscores (A-z, 0-9, and _ )\n",
    "\n",
    "5)WHat is a Semantic error?\n",
    "SEMANTIC errors – code is grammatically correct but doesn't make any sense; it does not produce the expected results\n",
    "\n",
    "6)What is the #1 rule of coding / debugging?\n",
    "The #1 Rule: Complexity is the enemy of efficiency!\n",
    "\n",
    "7)list 5 Python reserved words.\n",
    "1.lambda, 2.elif, 3.yield, 4.nonlocal, 5.finally\n",
    "\n",
    "8)add and name, a web link for any Python coding article, in your markdown cell.\n",
    "7 Practical GitHub Repositories That Will Teach You Python\n",
    "https://www.makeuseof.com/python-practical-github-repositories-learn/"
   ]
  }
 ],
 "metadata": {
  "kernelspec": {
   "display_name": "Python 3",
   "language": "python",
   "name": "python3"
  },
  "language_info": {
   "name": "python",
   "version": "3.11.1"
  },
  "orig_nbformat": 4,
  "vscode": {
   "interpreter": {
    "hash": "98011006c0030de505896fb2cc0656c954cd3c4c7ca42121b7bb419164c48b4e"
   }
  }
 },
 "nbformat": 4,
 "nbformat_minor": 2
}
